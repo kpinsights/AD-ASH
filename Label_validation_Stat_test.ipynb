{
  "nbformat": 4,
  "nbformat_minor": 0,
  "metadata": {
    "colab": {
      "provenance": []
    },
    "kernelspec": {
      "name": "python3",
      "display_name": "Python 3"
    },
    "language_info": {
      "name": "python"
    }
  },
  "cells": [
    {
      "cell_type": "code",
      "execution_count": 1,
      "metadata": {
        "colab": {
          "base_uri": "https://localhost:8080/"
        },
        "id": "x-c8pnncF1fg",
        "outputId": "8105c0bc-ca77-4e5a-858a-c0432d1b84e4"
      },
      "outputs": [
        {
          "output_type": "stream",
          "name": "stdout",
          "text": [
            "Mounted at /content/drive\n"
          ]
        }
      ],
      "source": [
        "from google.colab import drive\n",
        "drive.mount('/content/drive')"
      ]
    },
    {
      "cell_type": "code",
      "source": [
        "import pandas as pd\n",
        "import numpy as np\n",
        "import matplotlib.pyplot as plt\n",
        "import seaborn as sns\n",
        "import ast\n",
        "from math import sqrt\n",
        "from scipy.stats import norm\n",
        "from statsmodels.stats.contingency_tables import mcnemar\n",
        "from sklearn.metrics import confusion_matrix\n"
      ],
      "metadata": {
        "id": "r-fm8BPnF6Sy"
      },
      "execution_count": 2,
      "outputs": []
    },
    {
      "cell_type": "code",
      "source": [
        "df_orig = pd.read_csv('./sample_200_train_prompts.csv')\n",
        "df_manual = pd.read_excel('./Manually_labeled_200_train_prompts.xlsx')"
      ],
      "metadata": {
        "id": "10TIq4CSGB9z"
      },
      "execution_count": 3,
      "outputs": []
    },
    {
      "cell_type": "code",
      "source": [
        "df_orig.head()"
      ],
      "metadata": {
        "colab": {
          "base_uri": "https://localhost:8080/",
          "height": 206
        },
        "id": "Lp8JBK5EGKaF",
        "outputId": "d32adb1c-600c-4a3a-b9d8-95529e284564"
      },
      "execution_count": 4,
      "outputs": [
        {
          "output_type": "execute_result",
          "data": {
            "text/plain": [
              "                                           Statement    label\n",
              "0  The so called 'new age' chhokras of the city h...  [1,1,0]\n",
              "1  An old man was trying touching my friend again...  [0,0,1]\n",
              "2  Chatting and befriending different people on f...  [0,0,0]\n",
              "3  i was with my friends wet in the rain and some...  [1,1,0]\n",
              "4  She was touched at private parts by her dance ...  [0,0,1]"
            ],
            "text/html": [
              "\n",
              "  <div id=\"df-030ea07e-d693-4397-9573-1fbcdd959499\" class=\"colab-df-container\">\n",
              "    <div>\n",
              "<style scoped>\n",
              "    .dataframe tbody tr th:only-of-type {\n",
              "        vertical-align: middle;\n",
              "    }\n",
              "\n",
              "    .dataframe tbody tr th {\n",
              "        vertical-align: top;\n",
              "    }\n",
              "\n",
              "    .dataframe thead th {\n",
              "        text-align: right;\n",
              "    }\n",
              "</style>\n",
              "<table border=\"1\" class=\"dataframe\">\n",
              "  <thead>\n",
              "    <tr style=\"text-align: right;\">\n",
              "      <th></th>\n",
              "      <th>Statement</th>\n",
              "      <th>label</th>\n",
              "    </tr>\n",
              "  </thead>\n",
              "  <tbody>\n",
              "    <tr>\n",
              "      <th>0</th>\n",
              "      <td>The so called 'new age' chhokras of the city h...</td>\n",
              "      <td>[1,1,0]</td>\n",
              "    </tr>\n",
              "    <tr>\n",
              "      <th>1</th>\n",
              "      <td>An old man was trying touching my friend again...</td>\n",
              "      <td>[0,0,1]</td>\n",
              "    </tr>\n",
              "    <tr>\n",
              "      <th>2</th>\n",
              "      <td>Chatting and befriending different people on f...</td>\n",
              "      <td>[0,0,0]</td>\n",
              "    </tr>\n",
              "    <tr>\n",
              "      <th>3</th>\n",
              "      <td>i was with my friends wet in the rain and some...</td>\n",
              "      <td>[1,1,0]</td>\n",
              "    </tr>\n",
              "    <tr>\n",
              "      <th>4</th>\n",
              "      <td>She was touched at private parts by her dance ...</td>\n",
              "      <td>[0,0,1]</td>\n",
              "    </tr>\n",
              "  </tbody>\n",
              "</table>\n",
              "</div>\n",
              "    <div class=\"colab-df-buttons\">\n",
              "\n",
              "  <div class=\"colab-df-container\">\n",
              "    <button class=\"colab-df-convert\" onclick=\"convertToInteractive('df-030ea07e-d693-4397-9573-1fbcdd959499')\"\n",
              "            title=\"Convert this dataframe to an interactive table.\"\n",
              "            style=\"display:none;\">\n",
              "\n",
              "  <svg xmlns=\"http://www.w3.org/2000/svg\" height=\"24px\" viewBox=\"0 -960 960 960\">\n",
              "    <path d=\"M120-120v-720h720v720H120Zm60-500h600v-160H180v160Zm220 220h160v-160H400v160Zm0 220h160v-160H400v160ZM180-400h160v-160H180v160Zm440 0h160v-160H620v160ZM180-180h160v-160H180v160Zm440 0h160v-160H620v160Z\"/>\n",
              "  </svg>\n",
              "    </button>\n",
              "\n",
              "  <style>\n",
              "    .colab-df-container {\n",
              "      display:flex;\n",
              "      gap: 12px;\n",
              "    }\n",
              "\n",
              "    .colab-df-convert {\n",
              "      background-color: #E8F0FE;\n",
              "      border: none;\n",
              "      border-radius: 50%;\n",
              "      cursor: pointer;\n",
              "      display: none;\n",
              "      fill: #1967D2;\n",
              "      height: 32px;\n",
              "      padding: 0 0 0 0;\n",
              "      width: 32px;\n",
              "    }\n",
              "\n",
              "    .colab-df-convert:hover {\n",
              "      background-color: #E2EBFA;\n",
              "      box-shadow: 0px 1px 2px rgba(60, 64, 67, 0.3), 0px 1px 3px 1px rgba(60, 64, 67, 0.15);\n",
              "      fill: #174EA6;\n",
              "    }\n",
              "\n",
              "    .colab-df-buttons div {\n",
              "      margin-bottom: 4px;\n",
              "    }\n",
              "\n",
              "    [theme=dark] .colab-df-convert {\n",
              "      background-color: #3B4455;\n",
              "      fill: #D2E3FC;\n",
              "    }\n",
              "\n",
              "    [theme=dark] .colab-df-convert:hover {\n",
              "      background-color: #434B5C;\n",
              "      box-shadow: 0px 1px 3px 1px rgba(0, 0, 0, 0.15);\n",
              "      filter: drop-shadow(0px 1px 2px rgba(0, 0, 0, 0.3));\n",
              "      fill: #FFFFFF;\n",
              "    }\n",
              "  </style>\n",
              "\n",
              "    <script>\n",
              "      const buttonEl =\n",
              "        document.querySelector('#df-030ea07e-d693-4397-9573-1fbcdd959499 button.colab-df-convert');\n",
              "      buttonEl.style.display =\n",
              "        google.colab.kernel.accessAllowed ? 'block' : 'none';\n",
              "\n",
              "      async function convertToInteractive(key) {\n",
              "        const element = document.querySelector('#df-030ea07e-d693-4397-9573-1fbcdd959499');\n",
              "        const dataTable =\n",
              "          await google.colab.kernel.invokeFunction('convertToInteractive',\n",
              "                                                    [key], {});\n",
              "        if (!dataTable) return;\n",
              "\n",
              "        const docLinkHtml = 'Like what you see? Visit the ' +\n",
              "          '<a target=\"_blank\" href=https://colab.research.google.com/notebooks/data_table.ipynb>data table notebook</a>'\n",
              "          + ' to learn more about interactive tables.';\n",
              "        element.innerHTML = '';\n",
              "        dataTable['output_type'] = 'display_data';\n",
              "        await google.colab.output.renderOutput(dataTable, element);\n",
              "        const docLink = document.createElement('div');\n",
              "        docLink.innerHTML = docLinkHtml;\n",
              "        element.appendChild(docLink);\n",
              "      }\n",
              "    </script>\n",
              "  </div>\n",
              "\n",
              "\n",
              "    <div id=\"df-52d187b4-0ba9-48c1-b803-1ce962a62b79\">\n",
              "      <button class=\"colab-df-quickchart\" onclick=\"quickchart('df-52d187b4-0ba9-48c1-b803-1ce962a62b79')\"\n",
              "                title=\"Suggest charts\"\n",
              "                style=\"display:none;\">\n",
              "\n",
              "<svg xmlns=\"http://www.w3.org/2000/svg\" height=\"24px\"viewBox=\"0 0 24 24\"\n",
              "     width=\"24px\">\n",
              "    <g>\n",
              "        <path d=\"M19 3H5c-1.1 0-2 .9-2 2v14c0 1.1.9 2 2 2h14c1.1 0 2-.9 2-2V5c0-1.1-.9-2-2-2zM9 17H7v-7h2v7zm4 0h-2V7h2v10zm4 0h-2v-4h2v4z\"/>\n",
              "    </g>\n",
              "</svg>\n",
              "      </button>\n",
              "\n",
              "<style>\n",
              "  .colab-df-quickchart {\n",
              "      --bg-color: #E8F0FE;\n",
              "      --fill-color: #1967D2;\n",
              "      --hover-bg-color: #E2EBFA;\n",
              "      --hover-fill-color: #174EA6;\n",
              "      --disabled-fill-color: #AAA;\n",
              "      --disabled-bg-color: #DDD;\n",
              "  }\n",
              "\n",
              "  [theme=dark] .colab-df-quickchart {\n",
              "      --bg-color: #3B4455;\n",
              "      --fill-color: #D2E3FC;\n",
              "      --hover-bg-color: #434B5C;\n",
              "      --hover-fill-color: #FFFFFF;\n",
              "      --disabled-bg-color: #3B4455;\n",
              "      --disabled-fill-color: #666;\n",
              "  }\n",
              "\n",
              "  .colab-df-quickchart {\n",
              "    background-color: var(--bg-color);\n",
              "    border: none;\n",
              "    border-radius: 50%;\n",
              "    cursor: pointer;\n",
              "    display: none;\n",
              "    fill: var(--fill-color);\n",
              "    height: 32px;\n",
              "    padding: 0;\n",
              "    width: 32px;\n",
              "  }\n",
              "\n",
              "  .colab-df-quickchart:hover {\n",
              "    background-color: var(--hover-bg-color);\n",
              "    box-shadow: 0 1px 2px rgba(60, 64, 67, 0.3), 0 1px 3px 1px rgba(60, 64, 67, 0.15);\n",
              "    fill: var(--button-hover-fill-color);\n",
              "  }\n",
              "\n",
              "  .colab-df-quickchart-complete:disabled,\n",
              "  .colab-df-quickchart-complete:disabled:hover {\n",
              "    background-color: var(--disabled-bg-color);\n",
              "    fill: var(--disabled-fill-color);\n",
              "    box-shadow: none;\n",
              "  }\n",
              "\n",
              "  .colab-df-spinner {\n",
              "    border: 2px solid var(--fill-color);\n",
              "    border-color: transparent;\n",
              "    border-bottom-color: var(--fill-color);\n",
              "    animation:\n",
              "      spin 1s steps(1) infinite;\n",
              "  }\n",
              "\n",
              "  @keyframes spin {\n",
              "    0% {\n",
              "      border-color: transparent;\n",
              "      border-bottom-color: var(--fill-color);\n",
              "      border-left-color: var(--fill-color);\n",
              "    }\n",
              "    20% {\n",
              "      border-color: transparent;\n",
              "      border-left-color: var(--fill-color);\n",
              "      border-top-color: var(--fill-color);\n",
              "    }\n",
              "    30% {\n",
              "      border-color: transparent;\n",
              "      border-left-color: var(--fill-color);\n",
              "      border-top-color: var(--fill-color);\n",
              "      border-right-color: var(--fill-color);\n",
              "    }\n",
              "    40% {\n",
              "      border-color: transparent;\n",
              "      border-right-color: var(--fill-color);\n",
              "      border-top-color: var(--fill-color);\n",
              "    }\n",
              "    60% {\n",
              "      border-color: transparent;\n",
              "      border-right-color: var(--fill-color);\n",
              "    }\n",
              "    80% {\n",
              "      border-color: transparent;\n",
              "      border-right-color: var(--fill-color);\n",
              "      border-bottom-color: var(--fill-color);\n",
              "    }\n",
              "    90% {\n",
              "      border-color: transparent;\n",
              "      border-bottom-color: var(--fill-color);\n",
              "    }\n",
              "  }\n",
              "</style>\n",
              "\n",
              "      <script>\n",
              "        async function quickchart(key) {\n",
              "          const quickchartButtonEl =\n",
              "            document.querySelector('#' + key + ' button');\n",
              "          quickchartButtonEl.disabled = true;  // To prevent multiple clicks.\n",
              "          quickchartButtonEl.classList.add('colab-df-spinner');\n",
              "          try {\n",
              "            const charts = await google.colab.kernel.invokeFunction(\n",
              "                'suggestCharts', [key], {});\n",
              "          } catch (error) {\n",
              "            console.error('Error during call to suggestCharts:', error);\n",
              "          }\n",
              "          quickchartButtonEl.classList.remove('colab-df-spinner');\n",
              "          quickchartButtonEl.classList.add('colab-df-quickchart-complete');\n",
              "        }\n",
              "        (() => {\n",
              "          let quickchartButtonEl =\n",
              "            document.querySelector('#df-52d187b4-0ba9-48c1-b803-1ce962a62b79 button');\n",
              "          quickchartButtonEl.style.display =\n",
              "            google.colab.kernel.accessAllowed ? 'block' : 'none';\n",
              "        })();\n",
              "      </script>\n",
              "    </div>\n",
              "\n",
              "    </div>\n",
              "  </div>\n"
            ],
            "application/vnd.google.colaboratory.intrinsic+json": {
              "type": "dataframe",
              "variable_name": "df_orig",
              "summary": "{\n  \"name\": \"df_orig\",\n  \"rows\": 200,\n  \"fields\": [\n    {\n      \"column\": \"Statement\",\n      \"properties\": {\n        \"dtype\": \"string\",\n        \"num_unique_values\": 198,\n        \"samples\": [\n          \"A friend's chain was snatched while she was on the street.\",\n          \"A girl of age 16 was raped and her sexual organs cut off.This happened when the parents sent her to a close by shop to get some goods and along the way the terrible incident occurred\",\n          \"While I was returning from college, group of boys teased me a lot by saying bad words.\"\n        ],\n        \"semantic_type\": \"\",\n        \"description\": \"\"\n      }\n    },\n    {\n      \"column\": \"label\",\n      \"properties\": {\n        \"dtype\": \"category\",\n        \"num_unique_values\": 8,\n        \"samples\": [\n          \"[0,0,1]\",\n          \"[1,0,1]\",\n          \"[1,1,0]\"\n        ],\n        \"semantic_type\": \"\",\n        \"description\": \"\"\n      }\n    }\n  ]\n}"
            }
          },
          "metadata": {},
          "execution_count": 4
        }
      ]
    },
    {
      "cell_type": "code",
      "source": [
        "df_manual.head()"
      ],
      "metadata": {
        "colab": {
          "base_uri": "https://localhost:8080/",
          "height": 206
        },
        "id": "L1Ff-gHXGXcD",
        "outputId": "90ff121c-3e94-4ec1-ac8c-11d87156b864"
      },
      "execution_count": 5,
      "outputs": [
        {
          "output_type": "execute_result",
          "data": {
            "text/plain": [
              "                                           Statement    label\n",
              "0  The so called 'new age' chhokras of the city h...  [0,0,0]\n",
              "1  An old man was trying touching my friend again...  [0,0,1]\n",
              "2  Chatting and befriending different people on f...  [1,0,0]\n",
              "3  i was with my friends wet in the rain and some...  [1,0,0]\n",
              "4  She was touched at private parts by her dance ...  [0,0,1]"
            ],
            "text/html": [
              "\n",
              "  <div id=\"df-70d325e4-8197-4ee8-a19d-a8f623cc29c0\" class=\"colab-df-container\">\n",
              "    <div>\n",
              "<style scoped>\n",
              "    .dataframe tbody tr th:only-of-type {\n",
              "        vertical-align: middle;\n",
              "    }\n",
              "\n",
              "    .dataframe tbody tr th {\n",
              "        vertical-align: top;\n",
              "    }\n",
              "\n",
              "    .dataframe thead th {\n",
              "        text-align: right;\n",
              "    }\n",
              "</style>\n",
              "<table border=\"1\" class=\"dataframe\">\n",
              "  <thead>\n",
              "    <tr style=\"text-align: right;\">\n",
              "      <th></th>\n",
              "      <th>Statement</th>\n",
              "      <th>label</th>\n",
              "    </tr>\n",
              "  </thead>\n",
              "  <tbody>\n",
              "    <tr>\n",
              "      <th>0</th>\n",
              "      <td>The so called 'new age' chhokras of the city h...</td>\n",
              "      <td>[0,0,0]</td>\n",
              "    </tr>\n",
              "    <tr>\n",
              "      <th>1</th>\n",
              "      <td>An old man was trying touching my friend again...</td>\n",
              "      <td>[0,0,1]</td>\n",
              "    </tr>\n",
              "    <tr>\n",
              "      <th>2</th>\n",
              "      <td>Chatting and befriending different people on f...</td>\n",
              "      <td>[1,0,0]</td>\n",
              "    </tr>\n",
              "    <tr>\n",
              "      <th>3</th>\n",
              "      <td>i was with my friends wet in the rain and some...</td>\n",
              "      <td>[1,0,0]</td>\n",
              "    </tr>\n",
              "    <tr>\n",
              "      <th>4</th>\n",
              "      <td>She was touched at private parts by her dance ...</td>\n",
              "      <td>[0,0,1]</td>\n",
              "    </tr>\n",
              "  </tbody>\n",
              "</table>\n",
              "</div>\n",
              "    <div class=\"colab-df-buttons\">\n",
              "\n",
              "  <div class=\"colab-df-container\">\n",
              "    <button class=\"colab-df-convert\" onclick=\"convertToInteractive('df-70d325e4-8197-4ee8-a19d-a8f623cc29c0')\"\n",
              "            title=\"Convert this dataframe to an interactive table.\"\n",
              "            style=\"display:none;\">\n",
              "\n",
              "  <svg xmlns=\"http://www.w3.org/2000/svg\" height=\"24px\" viewBox=\"0 -960 960 960\">\n",
              "    <path d=\"M120-120v-720h720v720H120Zm60-500h600v-160H180v160Zm220 220h160v-160H400v160Zm0 220h160v-160H400v160ZM180-400h160v-160H180v160Zm440 0h160v-160H620v160ZM180-180h160v-160H180v160Zm440 0h160v-160H620v160Z\"/>\n",
              "  </svg>\n",
              "    </button>\n",
              "\n",
              "  <style>\n",
              "    .colab-df-container {\n",
              "      display:flex;\n",
              "      gap: 12px;\n",
              "    }\n",
              "\n",
              "    .colab-df-convert {\n",
              "      background-color: #E8F0FE;\n",
              "      border: none;\n",
              "      border-radius: 50%;\n",
              "      cursor: pointer;\n",
              "      display: none;\n",
              "      fill: #1967D2;\n",
              "      height: 32px;\n",
              "      padding: 0 0 0 0;\n",
              "      width: 32px;\n",
              "    }\n",
              "\n",
              "    .colab-df-convert:hover {\n",
              "      background-color: #E2EBFA;\n",
              "      box-shadow: 0px 1px 2px rgba(60, 64, 67, 0.3), 0px 1px 3px 1px rgba(60, 64, 67, 0.15);\n",
              "      fill: #174EA6;\n",
              "    }\n",
              "\n",
              "    .colab-df-buttons div {\n",
              "      margin-bottom: 4px;\n",
              "    }\n",
              "\n",
              "    [theme=dark] .colab-df-convert {\n",
              "      background-color: #3B4455;\n",
              "      fill: #D2E3FC;\n",
              "    }\n",
              "\n",
              "    [theme=dark] .colab-df-convert:hover {\n",
              "      background-color: #434B5C;\n",
              "      box-shadow: 0px 1px 3px 1px rgba(0, 0, 0, 0.15);\n",
              "      filter: drop-shadow(0px 1px 2px rgba(0, 0, 0, 0.3));\n",
              "      fill: #FFFFFF;\n",
              "    }\n",
              "  </style>\n",
              "\n",
              "    <script>\n",
              "      const buttonEl =\n",
              "        document.querySelector('#df-70d325e4-8197-4ee8-a19d-a8f623cc29c0 button.colab-df-convert');\n",
              "      buttonEl.style.display =\n",
              "        google.colab.kernel.accessAllowed ? 'block' : 'none';\n",
              "\n",
              "      async function convertToInteractive(key) {\n",
              "        const element = document.querySelector('#df-70d325e4-8197-4ee8-a19d-a8f623cc29c0');\n",
              "        const dataTable =\n",
              "          await google.colab.kernel.invokeFunction('convertToInteractive',\n",
              "                                                    [key], {});\n",
              "        if (!dataTable) return;\n",
              "\n",
              "        const docLinkHtml = 'Like what you see? Visit the ' +\n",
              "          '<a target=\"_blank\" href=https://colab.research.google.com/notebooks/data_table.ipynb>data table notebook</a>'\n",
              "          + ' to learn more about interactive tables.';\n",
              "        element.innerHTML = '';\n",
              "        dataTable['output_type'] = 'display_data';\n",
              "        await google.colab.output.renderOutput(dataTable, element);\n",
              "        const docLink = document.createElement('div');\n",
              "        docLink.innerHTML = docLinkHtml;\n",
              "        element.appendChild(docLink);\n",
              "      }\n",
              "    </script>\n",
              "  </div>\n",
              "\n",
              "\n",
              "    <div id=\"df-0291bc1d-55ec-43d5-a284-60795618e5b6\">\n",
              "      <button class=\"colab-df-quickchart\" onclick=\"quickchart('df-0291bc1d-55ec-43d5-a284-60795618e5b6')\"\n",
              "                title=\"Suggest charts\"\n",
              "                style=\"display:none;\">\n",
              "\n",
              "<svg xmlns=\"http://www.w3.org/2000/svg\" height=\"24px\"viewBox=\"0 0 24 24\"\n",
              "     width=\"24px\">\n",
              "    <g>\n",
              "        <path d=\"M19 3H5c-1.1 0-2 .9-2 2v14c0 1.1.9 2 2 2h14c1.1 0 2-.9 2-2V5c0-1.1-.9-2-2-2zM9 17H7v-7h2v7zm4 0h-2V7h2v10zm4 0h-2v-4h2v4z\"/>\n",
              "    </g>\n",
              "</svg>\n",
              "      </button>\n",
              "\n",
              "<style>\n",
              "  .colab-df-quickchart {\n",
              "      --bg-color: #E8F0FE;\n",
              "      --fill-color: #1967D2;\n",
              "      --hover-bg-color: #E2EBFA;\n",
              "      --hover-fill-color: #174EA6;\n",
              "      --disabled-fill-color: #AAA;\n",
              "      --disabled-bg-color: #DDD;\n",
              "  }\n",
              "\n",
              "  [theme=dark] .colab-df-quickchart {\n",
              "      --bg-color: #3B4455;\n",
              "      --fill-color: #D2E3FC;\n",
              "      --hover-bg-color: #434B5C;\n",
              "      --hover-fill-color: #FFFFFF;\n",
              "      --disabled-bg-color: #3B4455;\n",
              "      --disabled-fill-color: #666;\n",
              "  }\n",
              "\n",
              "  .colab-df-quickchart {\n",
              "    background-color: var(--bg-color);\n",
              "    border: none;\n",
              "    border-radius: 50%;\n",
              "    cursor: pointer;\n",
              "    display: none;\n",
              "    fill: var(--fill-color);\n",
              "    height: 32px;\n",
              "    padding: 0;\n",
              "    width: 32px;\n",
              "  }\n",
              "\n",
              "  .colab-df-quickchart:hover {\n",
              "    background-color: var(--hover-bg-color);\n",
              "    box-shadow: 0 1px 2px rgba(60, 64, 67, 0.3), 0 1px 3px 1px rgba(60, 64, 67, 0.15);\n",
              "    fill: var(--button-hover-fill-color);\n",
              "  }\n",
              "\n",
              "  .colab-df-quickchart-complete:disabled,\n",
              "  .colab-df-quickchart-complete:disabled:hover {\n",
              "    background-color: var(--disabled-bg-color);\n",
              "    fill: var(--disabled-fill-color);\n",
              "    box-shadow: none;\n",
              "  }\n",
              "\n",
              "  .colab-df-spinner {\n",
              "    border: 2px solid var(--fill-color);\n",
              "    border-color: transparent;\n",
              "    border-bottom-color: var(--fill-color);\n",
              "    animation:\n",
              "      spin 1s steps(1) infinite;\n",
              "  }\n",
              "\n",
              "  @keyframes spin {\n",
              "    0% {\n",
              "      border-color: transparent;\n",
              "      border-bottom-color: var(--fill-color);\n",
              "      border-left-color: var(--fill-color);\n",
              "    }\n",
              "    20% {\n",
              "      border-color: transparent;\n",
              "      border-left-color: var(--fill-color);\n",
              "      border-top-color: var(--fill-color);\n",
              "    }\n",
              "    30% {\n",
              "      border-color: transparent;\n",
              "      border-left-color: var(--fill-color);\n",
              "      border-top-color: var(--fill-color);\n",
              "      border-right-color: var(--fill-color);\n",
              "    }\n",
              "    40% {\n",
              "      border-color: transparent;\n",
              "      border-right-color: var(--fill-color);\n",
              "      border-top-color: var(--fill-color);\n",
              "    }\n",
              "    60% {\n",
              "      border-color: transparent;\n",
              "      border-right-color: var(--fill-color);\n",
              "    }\n",
              "    80% {\n",
              "      border-color: transparent;\n",
              "      border-right-color: var(--fill-color);\n",
              "      border-bottom-color: var(--fill-color);\n",
              "    }\n",
              "    90% {\n",
              "      border-color: transparent;\n",
              "      border-bottom-color: var(--fill-color);\n",
              "    }\n",
              "  }\n",
              "</style>\n",
              "\n",
              "      <script>\n",
              "        async function quickchart(key) {\n",
              "          const quickchartButtonEl =\n",
              "            document.querySelector('#' + key + ' button');\n",
              "          quickchartButtonEl.disabled = true;  // To prevent multiple clicks.\n",
              "          quickchartButtonEl.classList.add('colab-df-spinner');\n",
              "          try {\n",
              "            const charts = await google.colab.kernel.invokeFunction(\n",
              "                'suggestCharts', [key], {});\n",
              "          } catch (error) {\n",
              "            console.error('Error during call to suggestCharts:', error);\n",
              "          }\n",
              "          quickchartButtonEl.classList.remove('colab-df-spinner');\n",
              "          quickchartButtonEl.classList.add('colab-df-quickchart-complete');\n",
              "        }\n",
              "        (() => {\n",
              "          let quickchartButtonEl =\n",
              "            document.querySelector('#df-0291bc1d-55ec-43d5-a284-60795618e5b6 button');\n",
              "          quickchartButtonEl.style.display =\n",
              "            google.colab.kernel.accessAllowed ? 'block' : 'none';\n",
              "        })();\n",
              "      </script>\n",
              "    </div>\n",
              "\n",
              "    </div>\n",
              "  </div>\n"
            ],
            "application/vnd.google.colaboratory.intrinsic+json": {
              "type": "dataframe",
              "variable_name": "df_manual",
              "summary": "{\n  \"name\": \"df_manual\",\n  \"rows\": 200,\n  \"fields\": [\n    {\n      \"column\": \"Statement\",\n      \"properties\": {\n        \"dtype\": \"string\",\n        \"num_unique_values\": 198,\n        \"samples\": [\n          \"A friend's chain was snatched while she was on the street.\",\n          \"A girl of age 16 was raped and her sexual organs cut off.This happened when the parents sent her to a close by shop to get some goods and along the way the terrible incident occurred\",\n          \"While I was returning from college, group of boys teased me a lot by saying bad words.\"\n        ],\n        \"semantic_type\": \"\",\n        \"description\": \"\"\n      }\n    },\n    {\n      \"column\": \"label\",\n      \"properties\": {\n        \"dtype\": \"category\",\n        \"num_unique_values\": 8,\n        \"samples\": [\n          \"[0,0,1]\",\n          \"[1,1,0]\",\n          \"[0,0,0]\"\n        ],\n        \"semantic_type\": \"\",\n        \"description\": \"\"\n      }\n    }\n  ]\n}"
            }
          },
          "metadata": {},
          "execution_count": 5
        }
      ]
    },
    {
      "cell_type": "code",
      "source": [
        "df_merged = pd.merge(df_orig, df_manual, on='Statement', suffixes=('_true', '_manual'))"
      ],
      "metadata": {
        "id": "ukhenW9wGaF6"
      },
      "execution_count": 6,
      "outputs": []
    },
    {
      "cell_type": "code",
      "source": [
        "df_final = df_merged[['Statement', 'label_true', 'label_manual']]"
      ],
      "metadata": {
        "id": "YOJhfu-mG4ma"
      },
      "execution_count": 7,
      "outputs": []
    },
    {
      "cell_type": "code",
      "source": [
        "# Converting both label columns to actual lists\n",
        "df_final['label_true'] = df_final['label_true'].apply(lambda x: ast.literal_eval(x) if isinstance(x, str) else x)\n",
        "df_final['label_manual'] = df_final['label_manual'].apply(lambda x: ast.literal_eval(x) if isinstance(x, str) else x)\n",
        "\n",
        "print(type(df_final['label_true'][0]), df_final['label_true'][0])\n",
        "print(type(df_final['label_manual'][0]), df_final['label_manual'][0])"
      ],
      "metadata": {
        "colab": {
          "base_uri": "https://localhost:8080/"
        },
        "id": "z8peKjZbIadO",
        "outputId": "c16279da-e7e1-43bd-97d0-58e213d429de"
      },
      "execution_count": 8,
      "outputs": [
        {
          "output_type": "stream",
          "name": "stdout",
          "text": [
            "<class 'list'> [1, 1, 0]\n",
            "<class 'list'> [0, 0, 0]\n"
          ]
        }
      ]
    },
    {
      "cell_type": "code",
      "source": [
        "## Splitting the lists into separate columns\n",
        "df_split_true = df_final['label_true'].apply(pd.Series)\n",
        "df_split_true.columns = ['commenting_true', 'ogling_true', 'groping_true']\n",
        "\n",
        "df_split_manual = df_final['label_manual'].apply(pd.Series)\n",
        "df_split_manual.columns = ['commenting_manual', 'ogling_manual', 'groping_manual']\n",
        "\n",
        "df_full = pd.concat([df_final[['Statement']], df_split_true, df_split_manual], axis=1)\n",
        "\n",
        "\n",
        "print(df_full.head())"
      ],
      "metadata": {
        "colab": {
          "base_uri": "https://localhost:8080/"
        },
        "id": "Pl6YOiE-IfYm",
        "outputId": "cd74ca24-214a-446e-a1f1-2a4ce0c20d94"
      },
      "execution_count": 9,
      "outputs": [
        {
          "output_type": "stream",
          "name": "stdout",
          "text": [
            "                                           Statement  commenting_true  \\\n",
            "0  The so called 'new age' chhokras of the city h...                1   \n",
            "1  An old man was trying touching my friend again...                0   \n",
            "2  Chatting and befriending different people on f...                0   \n",
            "3  i was with my friends wet in the rain and some...                1   \n",
            "4  She was touched at private parts by her dance ...                0   \n",
            "\n",
            "   ogling_true  groping_true  commenting_manual  ogling_manual  groping_manual  \n",
            "0            1             0                  0              0               0  \n",
            "1            0             1                  0              0               1  \n",
            "2            0             0                  1              0               0  \n",
            "3            1             0                  1              0               0  \n",
            "4            0             1                  0              0               1  \n"
          ]
        }
      ]
    },
    {
      "cell_type": "code",
      "source": [
        "df_full['commenting_mismatch'] = df_full['commenting_true'] != df_full['commenting_manual']\n",
        "df_full['ogling_mismatch'] = df_full['ogling_true'] != df_full['ogling_manual']\n",
        "df_full['groping_mismatch'] = df_full['groping_true'] != df_full['groping_manual']\n",
        "\n",
        "# Counting the mismatches\n",
        "commenting_mismatches = df_full['commenting_mismatch'].sum()\n",
        "ogling_mismatches = df_full['ogling_mismatch'].sum()\n",
        "groping_mismatches = df_full['groping_mismatch'].sum()\n"
      ],
      "metadata": {
        "id": "SJsbIWZfKNw2"
      },
      "execution_count": 10,
      "outputs": []
    },
    {
      "cell_type": "code",
      "source": [
        "print(f\"Commenting Mismatches: {commenting_mismatches}\")\n",
        "print(f\"Ogling Mismatches: {ogling_mismatches}\")\n",
        "print(f\"Groping Mismatches: {groping_mismatches}\")"
      ],
      "metadata": {
        "colab": {
          "base_uri": "https://localhost:8080/"
        },
        "id": "jGSxSUa5KQGc",
        "outputId": "200e4737-495e-4562-dbc8-c777cf1937c7"
      },
      "execution_count": 11,
      "outputs": [
        {
          "output_type": "stream",
          "name": "stdout",
          "text": [
            "Commenting Mismatches: 44\n",
            "Ogling Mismatches: 43\n",
            "Groping Mismatches: 28\n"
          ]
        }
      ]
    },
    {
      "cell_type": "markdown",
      "source": [
        "## Z- Test"
      ],
      "metadata": {
        "id": "BFHRKGO0W3tD"
      }
    },
    {
      "cell_type": "code",
      "source": [
        "\n",
        "n = 200\n",
        "def one_proportion_z_test(x, n, p0=0.1, label=\"Label\"):\n",
        "    p_hat = x / n\n",
        "    se = sqrt(p0 * (1 - p0) / n)\n",
        "    z = (p_hat - p0) / se\n",
        "    p_value = 1 - norm.cdf(z)  # one-sided test\n",
        "\n",
        "    print(f\"{label}\")\n",
        "    print(f\"Mismatches: {x}/{n} ({p_hat:.2%})\")\n",
        "    print(f\"Z = {z:.3f}, p-value = {p_value:.4f}\")\n",
        "    if p_value < 0.05:\n",
        "        print(\"Reject H0: Mismatch rate is significantly greater than 5%.\\n\")\n",
        "    else:\n",
        "        print(\"Fail to reject H0: No significant evidence of poor labeling.\\n\")\n",
        "\n",
        "\n",
        "one_proportion_z_test(commenting_mismatches, n, label=\"Commenting\")\n",
        "one_proportion_z_test(ogling_mismatches, n, label=\"Ogling\")\n",
        "one_proportion_z_test(groping_mismatches, n, label=\"Groping\")"
      ],
      "metadata": {
        "colab": {
          "base_uri": "https://localhost:8080/"
        },
        "id": "Go_wskd8Mfpe",
        "outputId": "b3e531d9-cd87-47e8-ccfe-a2d5866572e5"
      },
      "execution_count": 12,
      "outputs": [
        {
          "output_type": "stream",
          "name": "stdout",
          "text": [
            "Commenting\n",
            "Mismatches: 44/200 (22.00%)\n",
            "Z = 5.657, p-value = 0.0000\n",
            "Reject H0: Mismatch rate is significantly greater than 5%.\n",
            "\n",
            "Ogling\n",
            "Mismatches: 43/200 (21.50%)\n",
            "Z = 5.421, p-value = 0.0000\n",
            "Reject H0: Mismatch rate is significantly greater than 5%.\n",
            "\n",
            "Groping\n",
            "Mismatches: 28/200 (14.00%)\n",
            "Z = 1.886, p-value = 0.0297\n",
            "Reject H0: Mismatch rate is significantly greater than 5%.\n",
            "\n"
          ]
        }
      ]
    },
    {
      "cell_type": "markdown",
      "source": [
        "### Z test with multiple proportion thresholds"
      ],
      "metadata": {
        "id": "Ydyur4RNW6Sm"
      }
    },
    {
      "cell_type": "code",
      "source": [
        "# Sample size\n",
        "n = 200\n",
        "\n",
        "# mismatches\n",
        "mismatches = {\n",
        "    \"Commenting\": 44,\n",
        "    \"Ogling\": 43,\n",
        "    \"Groping\": 28\n",
        "}\n",
        "\n",
        "### Testing the hypothesis with multiple threshold values ( 1% to 30% at 1% intervals)\n",
        "p0_values = np.arange(0.01, 0.31, 0.01)  # From 0.01 to 0.30 at 0.01 (1%) intervals\n",
        "\n",
        "threshold_results = {}\n",
        "\n",
        "for label, x in mismatches.items():\n",
        "    p_hat = x / n\n",
        "    z_scores = []\n",
        "    p_values = []\n",
        "\n",
        "    for p0 in p0_values:\n",
        "        # Standard error\n",
        "        se = np.sqrt(p0 * (1 - p0) / n)\n",
        "        # Z-score\n",
        "        z = (p_hat - p0) / se\n",
        "        # One-sided p-value\n",
        "        p_val = 1 - norm.cdf(z)\n",
        "        z_scores.append(z)\n",
        "        p_values.append(p_val)\n",
        "\n",
        "    threshold_results[label] = {\n",
        "        \"z_scores\": z_scores,\n",
        "        \"p_values\": p_values\n",
        "    }\n",
        "\n",
        "# Plotting p-values vs threshold\n",
        "plt.figure(figsize=(10, 6))\n",
        "for label in mismatches.keys():\n",
        "    plt.plot(p0_values, threshold_results[label][\"p_values\"], label=label)\n",
        "\n",
        "plt.axhline(0.05, color='gray', linestyle='--', label=\"Significance Level (0.05)\")\n",
        "plt.xlabel(\"Assumed Acceptable Mismatch Rate (p_0)\")\n",
        "plt.ylabel(\"p-value\")\n",
        "plt.title(\"Threshold Sensitivity Analysis: One-sided Z-test\")\n",
        "plt.legend()\n",
        "plt.grid(True)\n",
        "plt.tight_layout()\n",
        "plt.show()\n",
        "\n",
        "\n"
      ],
      "metadata": {
        "colab": {
          "base_uri": "https://localhost:8080/",
          "height": 607
        },
        "id": "l-gItnpnN2X1",
        "outputId": "17668d8c-3171-41bd-b995-b4b8adc81041"
      },
      "execution_count": 13,
      "outputs": [
        {
          "output_type": "display_data",
          "data": {
            "text/plain": [
              "<Figure size 1000x600 with 1 Axes>"
            ],
            "image/png": "[encoded data removed]"
          },
          "metadata": {}
        }
      ]
    },
    {
      "cell_type": "code",
      "source": [
        "### Finding the thershold from where we fail to reject the Null Hypothesis\n",
        "\n",
        "for label in mismatches.keys():\n",
        "    p_vals = np.array(threshold_results[label][\"p_values\"])\n",
        "    index = np.argmax(p_vals >= 0.05)\n",
        "    critical_p0 = p0_values[index] if p_vals[index] >= 0.05 else None\n",
        "    print(f\"{label}: We fail to reject null hypothesis starting at p_0 ≈ {critical_p0:.3f}\")"
      ],
      "metadata": {
        "colab": {
          "base_uri": "https://localhost:8080/"
        },
        "id": "k78IJqJ8O-in",
        "outputId": "0b90bfa4-8ee6-450e-f163-dbfd018017b5"
      },
      "execution_count": 14,
      "outputs": [
        {
          "output_type": "stream",
          "name": "stdout",
          "text": [
            "Commenting: We fail to reject null hypothesis starting at p_0 ≈ 0.180\n",
            "Ogling: We fail to reject null hypothesis starting at p_0 ≈ 0.180\n",
            "Groping: We fail to reject null hypothesis starting at p_0 ≈ 0.110\n"
          ]
        }
      ]
    },
    {
      "cell_type": "markdown",
      "source": [
        "## McNemars Test"
      ],
      "metadata": {
        "id": "UUYhHjslXJaU"
      }
    },
    {
      "cell_type": "code",
      "source": [
        "def run_mcnemar_test(col_true, col_manual, label_name):\n",
        "    # Create a 2x2 contingency table\n",
        "    b = ((col_true == 0) & (col_manual == 1)).sum()  # Original said 0, manual said 1\n",
        "    c = ((col_true == 1) & (col_manual == 0)).sum()  # Original said 1, manual said 0\n",
        "\n",
        "    table = [[0, b],\n",
        "             [c, 0]]\n",
        "\n",
        "    result = mcnemar(table, exact=True)  # Use exact test for small samples\n",
        "\n",
        "    print(f\"McNemar's Test for {label_name}\")\n",
        "    print(f\"b (False Negatives): {b}, c (False Positives): {c}\")\n",
        "    print(f\"Statistic: {result.statistic}, p-value: {result.pvalue}\")\n",
        "    if result.pvalue < 0.05:\n",
        "        print(\"Reject the null hypothesis: There is significant disagreement.\\n\")\n",
        "    else:\n",
        "        print(\"Fail to reject the null hypothesis: No significant disagreement.\\n\")\n",
        "\n",
        "# Apply test to each class\n",
        "run_mcnemar_test(df_full['commenting_true'], df_full['commenting_manual'], \"Commenting\")\n",
        "run_mcnemar_test(df_full['ogling_true'], df_full['ogling_manual'], \"Ogling\")\n",
        "run_mcnemar_test(df_full['groping_true'], df_full['groping_manual'], \"Groping\")\n"
      ],
      "metadata": {
        "colab": {
          "base_uri": "https://localhost:8080/"
        },
        "id": "eQJvvBCYW_Ht",
        "outputId": "9ad4f0fb-4016-4eef-a102-f266978016ef"
      },
      "execution_count": 15,
      "outputs": [
        {
          "output_type": "stream",
          "name": "stdout",
          "text": [
            "McNemar's Test for Commenting\n",
            "b (False Negatives): 20, c (False Positives): 24\n",
            "Statistic: 20.0, p-value: 0.651587827208914\n",
            "Fail to reject the null hypothesis: No significant disagreement.\n",
            "\n",
            "McNemar's Test for Ogling\n",
            "b (False Negatives): 24, c (False Positives): 19\n",
            "Statistic: 19.0, p-value: 0.542384011856484\n",
            "Fail to reject the null hypothesis: No significant disagreement.\n",
            "\n",
            "McNemar's Test for Groping\n",
            "b (False Negatives): 22, c (False Positives): 6\n",
            "Statistic: 6.0, p-value: 0.0037191659212112427\n",
            "Reject the null hypothesis: There is significant disagreement.\n",
            "\n"
          ]
        }
      ]
    }
  ]
}
